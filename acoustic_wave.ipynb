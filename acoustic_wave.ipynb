{
 "cells": [
  {
   "cell_type": "code",
   "execution_count": null,
   "metadata": {},
   "outputs": [],
   "source": [
    "# This magic makes plots appear in the browser\n",
    "%matplotlib notebook\n",
    "import matplotlib.pyplot as plt"
   ]
  },
  {
   "attachments": {
    "problem-2.png": {
     "image/png": "[encoded data removed]"
    }
   },
   "cell_type": "markdown",
   "metadata": {},
   "source": [
    "# Problema Direto\n",
    "\n",
    "Esse exemplo mostra como resolver o problema direto de simulação da onda acústica. Foi escolhido um meio simples dividido em duas camadas, uma superior onde a velocidade de propagação é de 2,5, e uma profunda com velocidade de 3,5.\n",
    "\n",
    "![problem-2.png](attachment:problem-2.png)\n",
    "\n",
    "$$\\frac{1}{c^2}\\frac{\\partial^2 u}{\\partial t^2} - \\nabla^2 u = s \\quad \\text{no interior do domínio} \\quad (\\text{1a})$$ \n",
    "\n",
    "$$\\nabla u \\cdot n = 0 \\quad \\text{no contorno} \\qquad \\qquad \\qquad \\quad \\; \\, (\\text{1b})$$"
   ]
  },
  {
   "cell_type": "markdown",
   "metadata": {},
   "source": [
    "Para a integração no tempo, será usado um esquema simplético que avança a meios passos de tempo. Antes disso, se rescreve o problema como:\n",
    "\n",
    "$$\\frac{\\partial u}{\\partial t} = -v \\qquad \\:\\:\\ \\qquad(\\text{2a})$$\n",
    "\n",
    "$$\\frac{1}{c^2}\\frac{\\partial v}{\\partial t} + \\nabla^2 u = - s \\qquad (\\text{2b})$$\n",
    "\n",
    "$$s = f_{rick}(t)\\delta(x-x_0) \\qquad \\text{(2c)}$$\n",
    "\n",
    "onde $f_{rick}$ é um sinal do tipo *Ricker* com frequência central de 10Hz exercido sobre o ponto $x_0 = (0.5, -0.02) \\;$. Discretizando no tempo obtemos:\n",
    "\n",
    "$$u_{n+{\\frac{1}{2}}} = u_n - \\frac{\\Delta t}{2}v_n \\qquad \\qquad \\qquad \\quad \\;(\\text{3a})$$\n",
    "\n",
    "$$v_{n+1} = v_n - \\Delta t c^2(\\nabla^2u_{n+\\frac{1}{2}} + s_{n+\\frac{1}{2}}) \\qquad (\\text{3b})$$\n",
    "\n",
    "Diferentemente do método das diferenças finitas em que se resolve as equação originais diretamente, no método dos elementos finitos se resolve a chamada **forma fraca** do problema, escrita em forma integral. Como somente (3b) possui derivada espacial, o problema fica:\n",
    "\n",
    "$$ \\qquad \\qquad \\quad \\qquad \\qquad  u_{n+\\frac{1}{2}} = u_n - \\frac{\\Delta t}{2}v_n \\qquad \\qquad \\qquad \\qquad \\qquad \\; \\,(\\text{4a})$$\n",
    "\n",
    "$$\\int_\\Omega v_{n+1} \\phi \\,\\mathrm{d}\\Omega= \\int_\\Omega v_n \\phi \\, \\mathrm{d}\\Omega + \\Delta t  \\int_\\Omega c^2\\nabla u \\cdot \\nabla \\phi \\, \\mathrm{d}\\Omega - \\Delta t  \\int_\\Omega c^2 s \\phi \\, \\mathrm{d}\\Omega \\qquad (\\text{4b})$$\n",
    "\n",
    "onde $\\Omega$ é o domínio e $\\phi$ é denominada função teste. \n",
    "\n",
    "Finalmente começamos o script carregando o Firedrake e criando a malha:"
   ]
  },
  {
   "cell_type": "code",
   "execution_count": null,
   "metadata": {},
   "outputs": [],
   "source": [
    "from firedrake import *\n",
    "import numpy as np\n",
    "\n",
    "nelx, nely = 100, 100\n",
    "Lx, Ly = 1, -1\n",
    "\n",
    "mesh = RectangleMesh(nelx, nely, Lx, Ly)"
   ]
  },
  {
   "cell_type": "markdown",
   "metadata": {},
   "source": [
    "Escolhemos funções lineares e contínuas para compor a base da nossa solução:"
   ]
  },
  {
   "cell_type": "code",
   "execution_count": null,
   "metadata": {},
   "outputs": [],
   "source": [
    "V = FunctionSpace(mesh, 'CG', 1)\n",
    "u = Function(V)\n",
    "v = Function(V)\n",
    "s = Function(V)\n",
    "\n",
    "phi = TestFunction(V)"
   ]
  },
  {
   "cell_type": "markdown",
   "metadata": {},
   "source": [
    "O Modelo de velocidades em particular pode ser criado utilizando uma expressão condicional:"
   ]
  },
  {
   "cell_type": "code",
   "execution_count": null,
   "metadata": {},
   "outputs": [],
   "source": [
    "x, y = SpatialCoordinate(mesh)\n",
    "c2 = Function(V).interpolate(conditional(y < Ly/2, Constant(2.5), Constant(3.5)))\n",
    "                             \n",
    "# Mostra o modelo de velocidades                           \n",
    "try:\n",
    "  fig, axes = plt.subplots()\n",
    "  colors = tripcolor(c2, axes=axes)\n",
    "  fig.colorbar(colors)\n",
    "except Exception as e:\n",
    "  warning(\"Cannot plot figure. Error msg: '%s'\" % e)\n",
    "\n",
    "try:\n",
    "  fig.show()\n",
    "except Exception as e:\n",
    "  warning(\"Cannot show figure. Error msg: '%s'\" % e)"
   ]
  },
  {
   "cell_type": "markdown",
   "metadata": {},
   "source": [
    "Caso se deseje salvar a solução para visualização num software externo, é possível salvar os dados num formato diretamente interpretável pelo *software* ParaView:"
   ]
  },
  {
   "cell_type": "code",
   "execution_count": null,
   "metadata": {},
   "outputs": [],
   "source": [
    "output = File('output/saida.pvd')\n",
    "output.write(u)"
   ]
  },
  {
   "cell_type": "markdown",
   "metadata": {},
   "source": [
    "A duração do evento é definida como 1, com passo de tempo de 0.001. Importa-se também uma função *ricker* para simular a fonte agindo no ponto (0.5, -0.1), além de uma função auxiliar para simular a ação de uma fonte pontual:"
   ]
  },
  {
   "cell_type": "code",
   "execution_count": null,
   "metadata": {},
   "outputs": [],
   "source": [
    "T = 1\n",
    "nt = 1000\n",
    "dt = T/nt\n",
    "t = 0\n",
    "step = 0\n",
    "\n",
    "f0 = 10\n",
    "x0 = [0.5, -0.02]\n",
    "\n",
    "from utils import ricker, disturb_dof\n",
    "\n",
    "# Mostra o sinal da fonte ao longo do tempo\n",
    "t0 = np.linspace(0, T, nt)\n",
    "try:\n",
    "  fig2, axes = plt.subplots()\n",
    "  axes.plot(t0, ricker(f0, t0))\n",
    "except Exception as e:\n",
    "  warning(\"Cannot plot figure. Error msg: '%s'\" % e)\n",
    "\n",
    "try:\n",
    "  fig2.show()\n",
    "except Exception as e:\n",
    "  warning(\"Cannot show figure. Error msg: '%s'\" % e)"
   ]
  },
  {
   "cell_type": "markdown",
   "metadata": {},
   "source": [
    "Além disso, registra-se os pontos superiores correspondentes à posição dos receptores:"
   ]
  },
  {
   "cell_type": "code",
   "execution_count": null,
   "metadata": {},
   "outputs": [],
   "source": [
    "coordinates = mesh.coordinates.dat.data\n",
    "receivers = coordinates[coordinates[:,1]==0][:-1]\n",
    "\n",
    "# Inicia registro do tiro\n",
    "shot_record = u.at(receivers)"
   ]
  },
  {
   "cell_type": "markdown",
   "metadata": {},
   "source": [
    "Inicia-se então o laço temporal:"
   ]
  },
  {
   "cell_type": "code",
   "execution_count": null,
   "metadata": {},
   "outputs": [],
   "source": [
    "while t <= T:\n",
    "    step += 1\n",
    "    \n",
    "    # Expressão (4a)    \n",
    "    u -= dt / 2 * v\n",
    "    t += dt / 2\n",
    "    \n",
    "    # Prepara fonte\n",
    "    disturb_dof(s, x0, h=ricker(f0, t))\n",
    "    # Expressão (4b)\n",
    "    v += assemble(dt * c2 * (inner(nabla_grad(u), nabla_grad(phi)) - s*phi)* dx) / assemble(phi*dx)\n",
    "    \n",
    "    # Expressão (4a) novamente    \n",
    "    u -= dt / 2 * v\n",
    "    t += dt / 2\n",
    "    \n",
    "    # Registra sinal nos receptores\n",
    "    shot_record = np.vstack((shot_record, u.at(receivers)))\n",
    "    \n",
    "    if step % 10 == 0:\n",
    "        output.write(u, time=t)\n",
    "        if step % 50 == 0:\n",
    "            print(\"resolvendo para tempo t=\", t)\n",
    "    "
   ]
  },
  {
   "cell_type": "markdown",
   "metadata": {},
   "source": [
    "Por fim, conferimos o registro do tiro:"
   ]
  },
  {
   "cell_type": "code",
   "execution_count": null,
   "metadata": {},
   "outputs": [],
   "source": [
    "# Mostra o registro do tiro                           \n",
    "try:\n",
    "  fig3, axes = plt.subplots()\n",
    "  colors = plt.imshow(shot_record, extent=[0, 1, 1, 0], cmap='gray')\n",
    "  plt.xlabel('X position (km)')\n",
    "  plt.ylabel('Time (s)')\n",
    "  fig3.colorbar(colors)\n",
    "except Exception as e:\n",
    "  warning(\"Cannot plot figure. Error msg: '%s'\" % e)\n",
    "\n",
    "try:\n",
    "  fig3.show()\n",
    "except Exception as e:\n",
    "  warning(\"Cannot show figure. Error msg: '%s'\" % e)"
   ]
  }
 ],
 "metadata": {
  "kernelspec": {
   "display_name": "Python 3",
   "language": "python",
   "name": "python3"
  },
  "language_info": {
   "codemirror_mode": {
    "name": "ipython",
    "version": 3
   },
   "file_extension": ".py",
   "mimetype": "text/x-python",
   "name": "python",
   "nbconvert_exporter": "python",
   "pygments_lexer": "ipython3",
   "version": "3.6.9"
  }
 },
 "nbformat": 4,
 "nbformat_minor": 4
}
